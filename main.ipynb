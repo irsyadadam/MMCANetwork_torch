{
 "cells": [
  {
   "cell_type": "code",
   "execution_count": 1,
   "metadata": {},
   "outputs": [],
   "source": [
    "import importlib.metadata\n",
    "import json\n",
    "import logging\n",
    "import os\n",
    "import re\n",
    "import tempfile\n",
    "import time\n",
    "import ast\n",
    "from pathlib import Path\n",
    "from typing import Any, Callable, Dict, List, Literal, Optional, Tuple, Type, TypeVar, Union\n",
    "import aeon\n"
   ]
  },
  {
   "cell_type": "code",
   "execution_count": 29,
   "metadata": {},
   "outputs": [],
   "source": [
    "import os\n",
    "import numpy as np\n",
    "import aeon\n",
    "from aeon.datasets import load_from_tsfile"
   ]
  },
  {
   "cell_type": "code",
   "execution_count": 4,
   "metadata": {},
   "outputs": [],
   "source": [
    "DATA_PATH = \"DATA/\""
   ]
  },
  {
   "cell_type": "code",
   "execution_count": 34,
   "metadata": {},
   "outputs": [],
   "source": [
    "train_x, train_y = aeon.datasets.load_from_tsfile(DATA_PATH + \"Blink_TRAIN.ts\")\n",
    "test_x, test_y = aeon.datasets.load_from_tsfile(DATA_PATH + \"Blink_TEST.ts\")\n",
    "\n",
    "train_x, train_y = np.array(train_x), np.array(train_y)\n",
    "test_x, test_y = np.array(test_x), np.array(test_y)\n",
    "\n",
    "# Separate x dimensions into 2 modalities\n",
    "m1_train_x = train_x[:, :2, :]\n",
    "m2_train_x = train_x[:, 2:, :]\n",
    "m1_test_x, m2_test_x = test_x, test_x\n",
    "\n",
    "#preserve labels\n",
    "m1_test_x = test_x[:, :, :]\n",
    "m2_test_x = test_x[:, :, :]\n",
    "m1_test_y, m2_test_y = test_y, test_y\n"
   ]
  },
  {
   "cell_type": "code",
   "execution_count": 36,
   "metadata": {},
   "outputs": [
    {
     "data": {
      "text/plain": [
       "(500, 2, 510)"
      ]
     },
     "execution_count": 36,
     "metadata": {},
     "output_type": "execute_result"
    }
   ],
   "source": [
    "m1_train_x.shape"
   ]
  },
  {
   "cell_type": "code",
   "execution_count": null,
   "metadata": {},
   "outputs": [],
   "source": []
  }
 ],
 "metadata": {
  "kernelspec": {
   "display_name": "MMCA_simul",
   "language": "python",
   "name": "mmca_simul"
  },
  "language_info": {
   "codemirror_mode": {
    "name": "ipython",
    "version": 3
   },
   "file_extension": ".py",
   "mimetype": "text/x-python",
   "name": "python",
   "nbconvert_exporter": "python",
   "pygments_lexer": "ipython3",
   "version": "3.11.10"
  }
 },
 "nbformat": 4,
 "nbformat_minor": 2
}
